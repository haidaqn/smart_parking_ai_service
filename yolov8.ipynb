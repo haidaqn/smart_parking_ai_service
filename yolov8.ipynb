{
 "cells": [
  {
   "cell_type": "code",
   "execution_count": 3,
   "metadata": {},
   "outputs": [
    {
     "name": "stdout",
     "output_type": "stream",
     "text": [
      "\n",
      "image 1/1 c:\\Users\\subi1\\Project\\Test\\greenpack_1698.png: 480x640 1 BSV, 155.2ms\n",
      "Speed: 6.0ms preprocess, 155.2ms inference, 1.0ms postprocess per image at shape (1, 3, 480, 640)\n",
      "Results saved to \u001b[1mruns\\detect\\predict\u001b[0m\n",
      "2 labels saved to runs\\detect\\predict\\labels\n"
     ]
    },
    {
     "data": {
      "text/plain": [
       "[ultralytics.engine.results.Results object with attributes:\n",
       " \n",
       " boxes: ultralytics.engine.results.Boxes object\n",
       " keypoints: None\n",
       " masks: None\n",
       " names: {0: 'BSD', 1: 'BSV'}\n",
       " obb: None\n",
       " orig_img: array([[[ 91,  70,  68],\n",
       "         [104,  83,  81],\n",
       "         [103,  82,  80],\n",
       "         ...,\n",
       "         [118,  95,  99],\n",
       "         [120,  99, 102],\n",
       "         [133, 112, 115]],\n",
       " \n",
       "        [[ 99,  78,  76],\n",
       "         [100,  79,  77],\n",
       "         [ 93,  72,  70],\n",
       "         ...,\n",
       "         [114,  91,  95],\n",
       "         [111,  90,  93],\n",
       "         [124, 103, 106]],\n",
       " \n",
       "        [[ 96,  75,  74],\n",
       "         [ 90,  69,  68],\n",
       "         [ 84,  63,  62],\n",
       "         ...,\n",
       "         [123, 100, 104],\n",
       "         [110,  87,  91],\n",
       "         [120,  97, 101]],\n",
       " \n",
       "        ...,\n",
       " \n",
       "        [[102, 100, 106],\n",
       "         [101,  99, 105],\n",
       "         [101,  99, 105],\n",
       "         ...,\n",
       "         [185, 180, 177],\n",
       "         [185, 180, 177],\n",
       "         [185, 180, 177]],\n",
       " \n",
       "        [[101,  99, 105],\n",
       "         [101,  99, 105],\n",
       "         [100,  98, 104],\n",
       "         ...,\n",
       "         [185, 180, 177],\n",
       "         [185, 180, 177],\n",
       "         [185, 180, 177]],\n",
       " \n",
       "        [[100,  98, 104],\n",
       "         [100,  98, 104],\n",
       "         [100,  98, 104],\n",
       "         ...,\n",
       "         [185, 180, 177],\n",
       "         [185, 180, 177],\n",
       "         [185, 180, 177]]], dtype=uint8)\n",
       " orig_shape: (285, 380)\n",
       " path: 'c:\\\\Users\\\\subi1\\\\Project\\\\Test\\\\greenpack_1698.png'\n",
       " probs: None\n",
       " save_dir: 'runs\\\\detect\\\\predict'\n",
       " speed: {'preprocess': 6.00123405456543, 'inference': 155.1973819732666, 'postprocess': 0.9999275207519531}]"
      ]
     },
     "execution_count": 3,
     "metadata": {},
     "output_type": "execute_result"
    }
   ],
   "source": [
    "from ultralytics import YOLO \n",
    "from IPython.display import Image\n",
    "yolo8_model_detection =YOLO('best.pt')\n",
    "yolo8_model_detection.predict(source='./greenpack_1698.png',save_txt=True ,save=True,exist_ok=True)"
   ]
  }
 ],
 "metadata": {
  "kernelspec": {
   "display_name": "base",
   "language": "python",
   "name": "python3"
  },
  "language_info": {
   "codemirror_mode": {
    "name": "ipython",
    "version": 3
   },
   "file_extension": ".py",
   "mimetype": "text/x-python",
   "name": "python",
   "nbconvert_exporter": "python",
   "pygments_lexer": "ipython3",
   "version": "3.11.7"
  }
 },
 "nbformat": 4,
 "nbformat_minor": 2
}
